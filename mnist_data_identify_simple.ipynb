{
 "cells": [
  {
   "cell_type": "code",
   "execution_count": 3,
   "metadata": {},
   "outputs": [],
   "source": [
    "import tensorflow as tf\n",
    "from tensorflow.examples.tutorials.mnist import input_data"
   ]
  },
  {
   "cell_type": "code",
   "execution_count": 5,
   "metadata": {},
   "outputs": [
    {
     "name": "stdout",
     "output_type": "stream",
     "text": [
      "Extracting MNIST_data/train-images-idx3-ubyte.gz\n",
      "Extracting MNIST_data/train-labels-idx1-ubyte.gz\n",
      "Extracting MNIST_data/t10k-images-idx3-ubyte.gz\n",
      "Extracting MNIST_data/t10k-labels-idx1-ubyte.gz\n",
      "Iter 0,Testing Accuracy 0.8304\n",
      "Iter 1,Testing Accuracy 0.8705\n",
      "Iter 2,Testing Accuracy 0.8821\n",
      "Iter 3,Testing Accuracy 0.8879\n",
      "Iter 4,Testing Accuracy 0.8938\n",
      "Iter 5,Testing Accuracy 0.8973\n",
      "Iter 6,Testing Accuracy 0.8991\n",
      "Iter 7,Testing Accuracy 0.902\n",
      "Iter 8,Testing Accuracy 0.9033\n",
      "Iter 9,Testing Accuracy 0.9056\n",
      "Iter 10,Testing Accuracy 0.9057\n",
      "Iter 11,Testing Accuracy 0.9072\n",
      "Iter 12,Testing Accuracy 0.908\n",
      "Iter 13,Testing Accuracy 0.9099\n",
      "Iter 14,Testing Accuracy 0.9097\n",
      "Iter 15,Testing Accuracy 0.9107\n",
      "Iter 16,Testing Accuracy 0.9116\n",
      "Iter 17,Testing Accuracy 0.9124\n",
      "Iter 18,Testing Accuracy 0.9126\n",
      "Iter 19,Testing Accuracy 0.9132\n",
      "Iter 20,Testing Accuracy 0.9148\n"
     ]
    }
   ],
   "source": [
    "mnist = input_data.read_data_sets('MNIST_data',one_hot=True)\n",
    "\n",
    "# set batch_size, every time put 100 images for training\n",
    "batch_size = 100\n",
    "# calculate number of batches\n",
    "n_batch = mnist.train.num_examples // batch_size\n",
    "\n",
    "# define two placehoder\n",
    "x = tf.placeholder(tf.float32,[None,784]) #image\n",
    "y = tf.placeholder(tf.float32,[None,10])  #label\n",
    "\n",
    "# define a nural network\n",
    "W = tf.Variable(tf.zeros([784,10]))\n",
    "b = tf.Variable(tf.zeros([10]))\n",
    "prediction = tf.nn.softmax(tf.matmul(x,W)+b)\n",
    "\n",
    "# loss\n",
    "loss = tf.reduce_mean(tf.square(y-prediction))\n",
    "train_step = tf.train.GradientDescentOptimizer(0.2).minimize(loss)\n",
    "\n",
    "init = tf.global_variables_initializer()\n",
    "\n",
    "# calculate correct rate\n",
    "correct_prediction = tf.equal(tf.argmax(y,1),tf.argmax(prediction,1))# correct return true, otherwise return false\n",
    "accuracy = tf.reduce_mean(tf.cast(correct_prediction, tf.float32)) # true->1.0   false->0\n",
    "\n",
    "with tf.Session() as sess:\n",
    "    sess.run(init)\n",
    "    for eposh in range(21):\n",
    "        for batch in range(n_batch):\n",
    "            batch_xs,batch_ys = mnist.train.next_batch(batch_size)\n",
    "            sess.run(train_step,{x:batch_xs, y:batch_ys})\n",
    "            \n",
    "        acc = sess.run(accuracy,{x:mnist.test.images, y:mnist.test.labels})\n",
    "        print(\"Iter \" + str(eposh) + \",Testing Accuracy \" + str(acc))\n",
    "        \n",
    "        \n"
   ]
  },
  {
   "cell_type": "code",
   "execution_count": null,
   "metadata": {},
   "outputs": [],
   "source": []
  }
 ],
 "metadata": {
  "kernelspec": {
   "display_name": "Python 3",
   "language": "python",
   "name": "python3"
  },
  "language_info": {
   "codemirror_mode": {
    "name": "ipython",
    "version": 3
   },
   "file_extension": ".py",
   "mimetype": "text/x-python",
   "name": "python",
   "nbconvert_exporter": "python",
   "pygments_lexer": "ipython3",
   "version": "3.5.2"
  }
 },
 "nbformat": 4,
 "nbformat_minor": 2
}
