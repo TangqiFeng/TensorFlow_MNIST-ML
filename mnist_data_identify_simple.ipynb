{
 "cells": [
  {
   "cell_type": "code",
   "execution_count": 1,
   "metadata": {},
   "outputs": [],
   "source": [
    "# import tensorflow\n",
    "import tensorflow as tf\n",
    "# import mnist data from tensorflow\n",
    "from tensorflow.examples.tutorials.mnist import input_data"
   ]
  },
  {
   "cell_type": "code",
   "execution_count": 2,
   "metadata": {},
   "outputs": [
    {
     "name": "stdout",
     "output_type": "stream",
     "text": [
      "Extracting MNIST_data/train-images-idx3-ubyte.gz\n",
      "Extracting MNIST_data/train-labels-idx1-ubyte.gz\n",
      "Extracting MNIST_data/t10k-images-idx3-ubyte.gz\n",
      "Extracting MNIST_data/t10k-labels-idx1-ubyte.gz\n",
      "Iter 0,Testing Accuracy 0.825\n",
      "Iter 1,Testing Accuracy 0.8931\n",
      "Iter 2,Testing Accuracy 0.9012\n",
      "Iter 3,Testing Accuracy 0.9049\n",
      "Iter 4,Testing Accuracy 0.9089\n",
      "Iter 5,Testing Accuracy 0.911\n",
      "Iter 6,Testing Accuracy 0.9119\n",
      "Iter 7,Testing Accuracy 0.913\n",
      "Iter 8,Testing Accuracy 0.9148\n",
      "Iter 9,Testing Accuracy 0.9163\n",
      "Iter 10,Testing Accuracy 0.9168\n",
      "Iter 11,Testing Accuracy 0.9182\n",
      "Iter 12,Testing Accuracy 0.9186\n",
      "Iter 13,Testing Accuracy 0.9188\n",
      "Iter 14,Testing Accuracy 0.9204\n",
      "Iter 15,Testing Accuracy 0.9206\n",
      "Iter 16,Testing Accuracy 0.92\n",
      "Iter 17,Testing Accuracy 0.9213\n",
      "Iter 18,Testing Accuracy 0.9215\n",
      "Iter 19,Testing Accuracy 0.9221\n",
      "Iter 20,Testing Accuracy 0.9219\n"
     ]
    }
   ],
   "source": [
    "# get mnist data set & store in current folder, rename it 'MNIST_data'\n",
    "# A one-hot vector is a vector which is 0 in most dimensions, and 1 in a single dimension. \n",
    "# In this case, the nth digit will be represented as a vector which is 1 in the nth dimension.\n",
    "# For example, 3 would be [0,0,0,1,0,0,0,0,0,0]\n",
    "mnist = input_data.read_data_sets('MNIST_data',one_hot=True)\n",
    "\n",
    "# set batch_size, every time put 100 images for training\n",
    "batch_size = 100\n",
    "# calculate number of batches from data set\n",
    "n_batch = mnist.train.num_examples // batch_size\n",
    "\n",
    "# define two placehoder\n",
    "x = tf.placeholder(tf.float32,[None,784]) #images  784 = 28 * 28 pixels\n",
    "y = tf.placeholder(tf.float32,[None,10])  #labels  10 stands for 0~9\n",
    "\n",
    "# define a nural network              \n",
    "# tf.zeros -> initial value is 0\n",
    "# W has a shape of [784, 10] because we want to multiply the 784-dimensional image vectors by it \n",
    "# to produce 10-dimensional vectors of evidence for the difference classes. \n",
    "W = tf.Variable(tf.zeros([784,10])) \n",
    "b = tf.Variable(tf.zeros([10]))     # b:bisa, has a shape of [10] so we can add it to the output.\n",
    "prediction = tf.nn.softmax(tf.matmul(x,W)+b)\n",
    "\n",
    "# calculate cost(loss), and minimize loss\n",
    "#     use fomular (y-mx-b)^2\n",
    "#     loss = tf.reduce_mean(tf.square(y-prediction))\n",
    "# use tf.nn.softmax_cross_entropy_with_logits method\n",
    "loss = tf.reduce_mean(tf.nn.softmax_cross_entropy_with_logits(labels=y, logits=prediction))\n",
    "# use GradientDescent to train\n",
    "train_step = tf.train.GradientDescentOptimizer(0.2).minimize(loss)\n",
    "\n",
    "# initial glabal variables\n",
    "init = tf.global_variables_initializer()\n",
    "\n",
    "# calculate accuracy\n",
    "correct_prediction = tf.equal(tf.argmax(y,1),tf.argmax(prediction,1)) # correct return true, otherwise return false\n",
    "accuracy = tf.reduce_mean(tf.cast(correct_prediction, tf.float32)) # true->1.0   false->0\n",
    "\n",
    "# create loop to train\n",
    "with tf.Session() as sess:\n",
    "    sess.run(init)\n",
    "    for eposh in range(21):\n",
    "        for batch in range(n_batch):\n",
    "            batch_xs,batch_ys = mnist.train.next_batch(batch_size)\n",
    "            sess.run(train_step,{x:batch_xs, y:batch_ys})\n",
    "# calculate accuracy\n",
    "        acc = sess.run(accuracy,{x:mnist.test.images, y:mnist.test.labels})\n",
    "        print(\"Iter \" + str(eposh) + \",Testing Accuracy \" + str(acc))\n",
    "        \n",
    "        \n"
   ]
  },
  {
   "cell_type": "code",
   "execution_count": null,
   "metadata": {},
   "outputs": [],
   "source": []
  }
 ],
 "metadata": {
  "kernelspec": {
   "display_name": "Python 3",
   "language": "python",
   "name": "python3"
  },
  "language_info": {
   "codemirror_mode": {
    "name": "ipython",
    "version": 3
   },
   "file_extension": ".py",
   "mimetype": "text/x-python",
   "name": "python",
   "nbconvert_exporter": "python",
   "pygments_lexer": "ipython3",
   "version": "3.5.2"
  }
 },
 "nbformat": 4,
 "nbformat_minor": 2
}
